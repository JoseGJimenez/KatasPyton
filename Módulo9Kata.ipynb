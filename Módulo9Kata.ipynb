{
  "cells": [
    {
      "cell_type": "markdown",
      "metadata": {},
      "source": [
        "# Ejercicio: Uso de funciones en Python"
      ]
    },
    {
      "cell_type": "markdown",
      "metadata": {},
      "source": [
        "### Ejercicio 1: Trabajar con argumentos en funciones\n",
        "\n",
        "Los argumentos requeridos en las funciones se utilizan cuando las funciones necesitan que esos argumentos funcionen correctamente. En este ejercicio, construirás un informe de combustible que requiere información de varias ubicaciones de combustible en todo el cohete.\n",
        "\n"
      ]
    },
    {
      "cell_type": "markdown",
      "metadata": {},
      "source": [
        "> **TIP**\n",
        "> Dedica unos minutos para tratar de encontrar una solución. Luego desplázate hacia abajo hasta la parte inferior para ver si has logrado compilar el programa de acuerdo con las especificaciones\n",
        "\n",
        "Comienza por crear una función que necesite tres lecturas de combustible y devuelva un informe:"
      ]
    },
    {
      "cell_type": "code",
      "execution_count": 8,
      "metadata": {},
      "outputs": [],
      "source": [
        "# Función para leer 3 tanques de combustible y muestre el promedio\n",
        "def combustible (tanque1, tanque2, tanque3):\n",
        "    print (f\"El tanque1 contiene {tanque1} litros\")\n",
        "    print (f\"El tanque2 contiene {tanque2} litros\")\n",
        "    print (f\"El tanque3 contiene {tanque3} litros\")\n",
        "    print (f\"El promedio de los tanques es {(tanque1+tanque2+tanque3)/3}\")\n"
      ]
    },
    {
      "cell_type": "markdown",
      "metadata": {},
      "source": [
        "Ahora que hemos definido la función de informes, vamos a comprobarlo. Para esta misión, los tanques no están llenos:"
      ]
    },
    {
      "cell_type": "code",
      "execution_count": 9,
      "metadata": {},
      "outputs": [
        {
          "name": "stdout",
          "output_type": "stream",
          "text": [
            "El tanque1 contiene 1 litros\n",
            "El tanque2 contiene 2 litros\n",
            "El tanque3 contiene 3 litros\n",
            "El promedio de los tanques es 2.0\n"
          ]
        }
      ],
      "source": [
        "# Llamamos a la función que genera el reporte print(funcion(tanque1, tanque2, tanque3))\n",
        "tank1 = 0\n",
        "tank2 = 0\n",
        "tank3 = 0\n",
        "combustible (tank1, tank2, tank3)\n"
      ]
    },
    {
      "cell_type": "markdown",
      "metadata": {},
      "source": [
        "En lugar de simplemente crear el informe, la función también está calculando el promedio. Mejora la legibilidad extrayendo el cálculo promedio de la función en una nueva función para que el promedio se pueda hacer de forma independiente:"
      ]
    },
    {
      "cell_type": "code",
      "execution_count": 12,
      "metadata": {},
      "outputs": [],
      "source": [
        "# Función promedio \n",
        "def promedio (tanque1, tanque2, tanque3):\n",
        "    return (tanque1 + tanque2 + tanque3) / 3 "
      ]
    },
    {
      "cell_type": "markdown",
      "metadata": {},
      "source": [
        "Ahora actualiza la función de informes para llamando a la nueva función del promedio:\n"
      ]
    },
    {
      "cell_type": "code",
      "execution_count": null,
      "metadata": {},
      "outputs": [],
      "source": [
        "# Actualiza la función\n",
        "def combustible (tanque1, tanque2, tanque3):\n",
        "    print (f\"El tanque1 contiene {tanque1} litros\")\n",
        "    print (f\"El tanque2 contiene {tanque2} litros\")\n",
        "    print (f\"El tanque3 contiene {tanque3} litros\")\n",
        "    print (f\"El promedio de combustible de los 3 tanques es:{promedio(tanque1, tanque2, tanque3)}\")\n",
        "\n",
        "\n",
        "combustible (10 , 20 , 30)"
      ]
    },
    {
      "cell_type": "markdown",
      "metadata": {},
      "source": [
        "> Recuerda: Lo importante es intentarlo, puedes auxiliarte de internet, libros, etc. El objetivo de una kata es la comprobación de la comprensión de la lección y su aplicación inmediata a la resolución de problemas. Go for it!"
      ]
    },
    {
      "cell_type": "markdown",
      "metadata": {},
      "source": [
        "## Ejercicio 2: Trabajo con argumentos de palabra clave"
      ]
    },
    {
      "cell_type": "markdown",
      "metadata": {},
      "source": [
        "### Ejercicio : Trabajar con argumentos de palabras clave en funciones\n",
        "En este ejercicio, construirás un informe de cohete que requiere varias piezas de información, como el tiempo hasta el destino, el combustible a la izquierda y el nombre del destino. Comienza por crear una función que creará un informe preciso de la misión:"
      ]
    },
    {
      "cell_type": "code",
      "execution_count": 17,
      "metadata": {},
      "outputs": [
        {
          "name": "stdout",
          "output_type": "stream",
          "text": [
            "\n",
            "    El destino es: La luna\n",
            "    El tiempo de lanzamiento será: 1 Hrs\n",
            "    El tiempo de vuelo será: 3 Hrs\n",
            "    El combustible del tanque externo es: 40 L\n",
            "    El combustible del tanque interno es: 50 L\n",
            "    \n"
          ]
        }
      ],
      "source": [
        "# Función con un informe preciso de la misión. Considera hora de prelanzamiento, tiempo de vuelo, destino, tanque externo y tanque interno\n",
        "def informe ( destino, hora_lanzamiento, tiempo_vuelo, tanque_ext,tanque_inter):\n",
        "    print(f\"\"\"\n",
        "    El destino es: {destino}\n",
        "    El tiempo de lanzamiento será: {hora_lanzamiento} Hrs\n",
        "    El tiempo de vuelo será: {tiempo_vuelo} Hrs\n",
        "    El combustible del tanque externo es: {tanque_ext} L\n",
        "    El combustible del tanque interno es: {tanque_inter} L\n",
        "    \"\"\"\n",
        "    )\n",
        "\n",
        "informe (\"La luna\", 1, 3, 40 , 50)"
      ]
    },
    {
      "cell_type": "markdown",
      "metadata": {},
      "source": [
        "La función es problemática porque no se puede adaptar para minutos adicionales o tanques adicionales de combustible. Hazlo más flexible permitiendo cualquier número de pasos basados en el tiempo y cualquier número de tanques. En lugar de usar `*args` y `**kwargs`, aprovecha el hecho de que puedes usar cualquier nombre que desees. Asegurate que la función sea más legible mediante el uso de nombres de variables que están asociados con las entradas, como `*minutes` y `**fuel_reservoirs`:"
      ]
    },
    {
      "cell_type": "code",
      "execution_count": 20,
      "metadata": {},
      "outputs": [
        {
          "name": "stdout",
          "output_type": "stream",
          "text": [
            "\n",
            "    El destino es: Jupiter\n",
            "    El tiempo total del viaje es: 60 min.\n",
            "    El combustible restante en todos los tanques es: 230\n",
            "    \n"
          ]
        }
      ],
      "source": [
        "# Escribe tu nueva función de reporte considerando lo anterior\n",
        "def informe (destino, *minutes , **fuel_reservoirs):\n",
        "    print(f\"\"\"\n",
        "    El destino es: {destino}\n",
        "    El tiempo total del viaje es: {sum(minutes)} min.\n",
        "    El combustible restante en todos los tanques es: {sum(fuel_reservoirs.values())}\n",
        "    \"\"\")\n",
        "\n",
        "informe (\"Jupiter\" , 10 , 20 , 30, principal=80, secundario = 50, reserva = 100 )   "
      ]
    },
    {
      "cell_type": "markdown",
      "metadata": {},
      "source": [
        "Debido a que el combustible que queda en los tanques es específico de cada tanque, actualiza la función para usar el nombre de cada tanque en el informe:"
      ]
    },
    {
      "cell_type": "code",
      "execution_count": 26,
      "metadata": {},
      "outputs": [
        {
          "name": "stdout",
          "output_type": "stream",
          "text": [
            "\n",
            "El destino es: Jupiter\n",
            "El tiempo total del viaje es: 60 min\n",
            "La cantidad de combustible total es: 230\n",
            "El combustible se reparte de la siguiente manera:\n",
            "---------------------------------------------------\n",
            "El tanque principal tiene 80 L\n",
            "El tanque secundario tiene 50 L\n",
            "El tanque reserva tiene 100 L\n"
          ]
        }
      ],
      "source": [
        "# Escribe tu nueva función\n",
        "def informe (destino, *minutes , **fuel_reservoirs):\n",
        "    print(f\"\"\"\n",
        "El destino es: {destino}\n",
        "El tiempo total del viaje es: {sum(minutes)} min\n",
        "La cantidad de combustible total es: {sum(fuel_reservoirs.values())}\n",
        "El combustible se reparte de la siguiente manera:\n",
        "---------------------------------------------------\"\"\")\n",
        "\n",
        "    for title , name in fuel_reservoirs.items():\n",
        "        print (f\"El tanque {title} tiene {name} L\")\n",
        "\n",
        "informe (\"Jupiter\" , 10 , 20 , 30, principal=80, secundario = 50, reserva = 100 )"
      ]
    }
  ],
  "metadata": {
    "interpreter": {
      "hash": "205095b8b86ea82a021a8fc2ffba2b3bc9f8d0be25999901963b225939f75778"
    },
    "kernelspec": {
      "display_name": "Python 3.8.10 64-bit ('tmp': conda)",
      "name": "python3"
    },
    "language_info": {
      "codemirror_mode": {
        "name": "ipython",
        "version": 3
      },
      "file_extension": ".py",
      "mimetype": "text/x-python",
      "name": "python",
      "nbconvert_exporter": "python",
      "pygments_lexer": "ipython3",
      "version": "3.10.2"
    },
    "nteract": {
      "version": "nteract-front-end@1.0.0"
    },
    "orig_nbformat": 4
  },
  "nbformat": 4,
  "nbformat_minor": 2
}
